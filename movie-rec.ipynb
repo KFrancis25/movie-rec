{
 "cells": [
  {
   "cell_type": "code",
   "execution_count": 2,
   "id": "initial_id",
   "metadata": {
    "ExecuteTime": {
     "end_time": "2024-11-15T15:19:03.479344Z",
     "start_time": "2024-11-15T15:19:03.475774Z"
    },
    "collapsed": true
   },
   "outputs": [],
   "source": [
    "import os\n",
    "import pandas as pd\n",
    "from surprise import Dataset, Reader, KNNBasic\n",
    "from surprise.model_selection import train_test_split\n",
    "from surprise import accuracy\n"
   ]
  },
  {
   "cell_type": "code",
   "execution_count": 3,
   "id": "ac781fa8251679d7",
   "metadata": {
    "ExecuteTime": {
     "end_time": "2024-11-15T15:19:14.480327Z",
     "start_time": "2024-11-15T15:19:03.488227Z"
    }
   },
   "outputs": [
    {
     "name": "stdout",
     "output_type": "stream",
     "text": [
      "Computing the cosine similarity matrix...\n",
      "Done computing similarity matrix.\n",
      "RMSE: 1.0497\n",
      "RMSE: 1.0497\n"
     ]
    }
   ],
   "source": [
    "# Define file paths based on the current script location\n",
    "current_dir = os.getcwd()  # Gets the current working directory\n",
    "ratings_path = os.path.join(current_dir, 'rating.csv')\n",
    "movies_path = os.path.join(current_dir, 'movie.csv')\n",
    "\n",
    "# Load MovieLens dataset\n",
    "ratings = pd.read_csv(ratings_path)\n",
    "movies = pd.read_csv(movies_path)\n",
    "\n",
    "ratings_sample = ratings.sample(n=20000, random_state=42)\n",
    "\n",
    "# Prepare the data for the Surprise library\n",
    "reader = Reader(rating_scale=(0.5, 5))\n",
    "data = Dataset.load_from_df(ratings_sample[['userId', 'movieId', 'rating']], reader)\n",
    "\n",
    "# Split data into training and test sets\n",
    "trainset, testset = train_test_split(data, test_size=0.2, random_state=42)\n",
    "\n",
    "# Define the KNN collaborative filtering algorithm\n",
    "# Using item-based collaborative filtering with cosine similarity\n",
    "algo = KNNBasic(sim_options={'name': 'cosine', 'user_based': False})\n",
    "\n",
    "# Train the algorithm on the training set\n",
    "algo.fit(trainset)\n",
    "\n",
    "# Make predictions on the test set\n",
    "predictions = algo.test(testset)\n",
    "\n",
    "# Calculate and print accuracy\n",
    "print(f\"RMSE: {accuracy.rmse(predictions):.4f}\")"
   ]
  },
  {
   "cell_type": "code",
   "execution_count": 4,
   "id": "765e15ea21adef08",
   "metadata": {
    "ExecuteTime": {
     "end_time": "2024-11-15T15:19:14.584344Z",
     "start_time": "2024-11-15T15:19:14.579433Z"
    }
   },
   "outputs": [],
   "source": [
    "# def get_movie_recommendations(user_id, num_recommendations=5):\n",
    "#     # Get a list of all unique movie IDs\n",
    "#     movie_ids = movies['movieId'].unique()\n",
    "# \n",
    "#     # Get the list of movie IDs the user has already rated\n",
    "#     user_rated_movies = ratings[ratings['userId'] == user_id]['movieId'].tolist()\n",
    "# \n",
    "#     # Filter out movies the user has already rated\n",
    "#     unrated_movies = [movie_id for movie_id in movie_ids if movie_id not in user_rated_movies]\n",
    "# \n",
    "#     # Predict ratings for all unrated movies\n",
    "#     predictions = [algo.predict(user_id, movie_id) for movie_id in unrated_movies]\n",
    "# \n",
    "#     # Sort predictions by estimated rating in descending order\n",
    "#     recommendations = sorted(predictions, key=lambda x: x.est, reverse=True)[:num_recommendations]\n",
    "# \n",
    "#     # Get the movie titles for the recommended movie IDs\n",
    "#     recommended_movie_ids = [int(pred.iid) for pred in recommendations]\n",
    "#     recommended_movies = movies[movies['movieId'].isin(recommended_movie_ids)]\n",
    "# \n",
    "#     return recommended_movies[['movieId', 'title']]\n",
    "import re \n",
    "import random\n",
    "def get_movie_recommendations(user_id, num_recommendations=5, year_range=None):\n",
    "    \n",
    "    # Get a list of all unique movie IDs\n",
    "    movie_ids = movies['movieId'].unique()\n",
    "    #extract year from title \n",
    "    movies['year'] = movies['title'].str.extract(r'\\((\\d{4})\\)', expand=False).astype(float)\n",
    "\n",
    "\n",
    "    # Get the list of movie IDs the user has already rated\n",
    "    user_rated_movies = ratings[ratings['userId'] == user_id]['movieId'].tolist()\n",
    "\n",
    "    # Filter out movies the user has already rated\n",
    "    unrated_movies = [movie_id for movie_id in movie_ids if movie_id not in user_rated_movies]\n",
    "\n",
    "    # Predict ratings for all unrated movies\n",
    "    predictions = [algo.predict(user_id, movie_id) for movie_id in unrated_movies]\n",
    "\n",
    "    # Find the highest-rated movie\n",
    "    max_rated_movie = max(predictions, key=lambda x: x.est)\n",
    "    max_movie_id = int(max_rated_movie.iid)\n",
    "    max_movie_title = movies[movies['movieId'] == max_movie_id]['title'].values[0]\n",
    "\n",
    "    print(f\"Highest predicted rating movie for User {user_id}: '{max_movie_title}' with a predicted rating of {max_rated_movie.est:.2f}\")\n",
    "\n",
    "    # Apply year range filter if provided\n",
    "    if year_range:\n",
    "        start_year, end_year = year_range\n",
    "        movies_filtered_by_year = movies[(movies['year'] >= start_year) & (movies['year'] <= end_year)]\n",
    "    else:\n",
    "        movies_filtered_by_year = movies\n",
    "\n",
    "    # Get random recommendations from different genres\n",
    "    genre_recommendations = []\n",
    "    for genre in movies_filtered_by_year['genres'].unique():\n",
    "        # Filter movies by genre and exclude already rated movies\n",
    "        genre_movies = movies_filtered_by_year[(movies_filtered_by_year['genres'] == genre) & (movies_filtered_by_year['movieId'].isin(unrated_movies))]\n",
    "\n",
    "        if not genre_movies.empty:\n",
    "            # Pick a random movie from the current genre and predict its rating\n",
    "            random_movie_id = random.choice(genre_movies['movieId'].tolist())\n",
    "            prediction = algo.predict(user_id, random_movie_id)\n",
    "            genre_recommendations.append((prediction.iid, prediction.est))\n",
    "\n",
    "    # Sort genre recommendations by rating (remove for randomness)\n",
    "    genre_recommendations = sorted(genre_recommendations, key=lambda x: x[1], reverse=True)[:num_recommendations]\n",
    "\n",
    "    # Get movie titles for the recommended movie IDs\n",
    "    recommended_movies = []\n",
    "\n",
    "    print(\"\\nMovies to Watch Next:\")\n",
    "    \n",
    "    for movie_id, rating in genre_recommendations:\n",
    "        movie_info = movies[movies['movieId'] == int(movie_id)][['title', 'genres']].values[0]\n",
    "        title, genre = movie_info\n",
    "        print(f\"Title: '{title}'\\n, Genre: {genre}\\n, Predicted Rating: {rating:.2f}\\n\")\n",
    "        recommended_movies.append((movie_id, title, genre, rating))\n",
    "\n",
    "    return recommended_movies\n",
    "\n",
    "\n"
   ]
  },
  {
   "cell_type": "code",
   "execution_count": 5,
   "id": "eacd32ca70071987",
   "metadata": {
    "ExecuteTime": {
     "end_time": "2024-11-15T15:19:20.532792Z",
     "start_time": "2024-11-15T15:19:14.637233Z"
    }
   },
   "outputs": [
    {
     "name": "stdout",
     "output_type": "stream",
     "text": [
      "Highest predicted rating movie for User 1: 'Toy Story (1995)' with a predicted rating of 3.52\n",
      "Title: 'Asterix and the Vikings (Astérix et les Vikings) (2006)'\n",
      ", Genre: Adventure|Animation|Children|Comedy|Fantasy\n",
      ", Predicted Rating: 3.52\n",
      "\n",
      "Title: 'Back to the Secret Garden (2001)'\n",
      ", Genre: Adventure|Children|Fantasy\n",
      ", Predicted Rating: 3.52\n",
      "\n",
      "Title: 'Wedding Date, The (2005)'\n",
      ", Genre: Comedy|Romance\n",
      ", Predicted Rating: 3.52\n",
      "\n",
      "Title: 'Tamara Drewe (2010)'\n",
      ", Genre: Comedy|Drama|Romance\n",
      ", Predicted Rating: 3.52\n",
      "\n",
      "Title: 'Sex Up Your Life! (2005)'\n",
      ", Genre: Comedy\n",
      ", Predicted Rating: 3.52\n",
      "\n",
      "Recommended movies for User 1\n",
      "[(91355, 'Asterix and the Vikings (Astérix et les Vikings) (2006)', 'Adventure|Animation|Children|Comedy|Fantasy', 3.51971875), (105819, 'Back to the Secret Garden (2001)', 'Adventure|Children|Fantasy', 3.51971875), (31433, 'Wedding Date, The (2005)', 'Comedy|Romance', 3.51971875), (80775, 'Tamara Drewe (2010)', 'Comedy|Drama|Romance', 3.51971875), (131068, 'Sex Up Your Life! (2005)', 'Comedy', 3.51971875)]\n"
     ]
    }
   ],
   "source": [
    "#%%\n",
    "# Test the recommendation function\n",
    "user_id = 1  # Example user ID\n",
    "## can change the years\n",
    "recommended_movies = get_movie_recommendations(user_id, num_recommendations=5,year_range=[2007,2010])\n",
    "print(\"Recommended movies for User\", user_id)\n",
    "print(recommended_movies)"
   ]
  },
  {
   "cell_type": "code",
   "execution_count": 6,
   "id": "143b49e5b32274a0",
   "metadata": {
    "ExecuteTime": {
     "end_time": "2024-11-15T15:19:26.314892Z",
     "start_time": "2024-11-15T15:19:20.542519Z"
    }
   },
   "outputs": [
    {
     "name": "stdout",
     "output_type": "stream",
     "text": [
      "Highest predicted rating movie for User 2: 'Toy Story (1995)' with a predicted rating of 3.52\n",
      "Title: 'The Magic Crystal (2011)'\n",
      ", Genre: Adventure|Animation|Children|Comedy|Fantasy\n",
      ", Predicted Rating: 3.52\n",
      "\n",
      "Title: 'Thief Lord, The (2006)'\n",
      ", Genre: Adventure|Children|Fantasy\n",
      ", Predicted Rating: 3.52\n",
      "\n",
      "Title: 'Decoy Bride, The (2011)'\n",
      ", Genre: Comedy|Romance\n",
      ", Predicted Rating: 3.52\n",
      "\n",
      "Title: 'Surviving Desire (1991)'\n",
      ", Genre: Comedy|Drama|Romance\n",
      ", Predicted Rating: 3.52\n",
      "\n",
      "Title: 'Stuart Saves His Family (1995)'\n",
      ", Genre: Comedy\n",
      ", Predicted Rating: 3.52\n",
      "\n",
      "Recommended movies for User 2\n",
      "[(117454, 'The Magic Crystal (2011)', 'Adventure|Animation|Children|Comedy|Fantasy', 3.51971875), (46762, 'Thief Lord, The (2006)', 'Adventure|Children|Fantasy', 3.51971875), (94503, 'Decoy Bride, The (2011)', 'Comedy|Romance', 3.51971875), (26757, 'Surviving Desire (1991)', 'Comedy|Drama|Romance', 3.51971875), (312, 'Stuart Saves His Family (1995)', 'Comedy', 3.51971875)]\n"
     ]
    }
   ],
   "source": [
    "# Test the recommendation function\n",
    "user_id2 = 2  # Example user ID\n",
    "recommended_movies = get_movie_recommendations(user_id2, num_recommendations=5)\n",
    "print(\"Recommended movies for User\", user_id2)\n",
    "print(recommended_movies)"
   ]
  },
  {
   "cell_type": "code",
   "execution_count": 7,
   "id": "76d84a246ed5b12d",
   "metadata": {
    "ExecuteTime": {
     "end_time": "2024-11-15T15:19:32.173339Z",
     "start_time": "2024-11-15T15:19:26.325200Z"
    }
   },
   "outputs": [
    {
     "name": "stdout",
     "output_type": "stream",
     "text": [
      "Highest predicted rating movie for User 3: 'Jumanji (1995)' with a predicted rating of 3.52\n",
      "Title: 'Shrek the Third (2007)'\n",
      ", Genre: Adventure|Animation|Children|Comedy|Fantasy\n",
      ", Predicted Rating: 3.52\n",
      "\n",
      "Title: 'Bridge to Terabithia (2007)'\n",
      ", Genre: Adventure|Children|Fantasy\n",
      ", Predicted Rating: 3.52\n",
      "\n",
      "Title: 'Friends with Benefits (2011)'\n",
      ", Genre: Comedy|Romance\n",
      ", Predicted Rating: 3.52\n",
      "\n",
      "Title: 'Fools Rush In (1997)'\n",
      ", Genre: Comedy|Drama|Romance\n",
      ", Predicted Rating: 3.52\n",
      "\n",
      "Title: 'Fat People (Gordos) (2009)'\n",
      ", Genre: Comedy\n",
      ", Predicted Rating: 3.52\n",
      "\n",
      "Recommended movies for User 3\n",
      "[(53121, 'Shrek the Third (2007)', 'Adventure|Animation|Children|Comedy|Fantasy', 3.51971875), (50601, 'Bridge to Terabithia (2007)', 'Adventure|Children|Fantasy', 3.51971875), (88405, 'Friends with Benefits (2011)', 'Comedy|Romance', 3.51971875), (1457, 'Fools Rush In (1997)', 'Comedy|Drama|Romance', 3.51971875), (78919, 'Fat People (Gordos) (2009)', 'Comedy', 3.51971875)]\n"
     ]
    }
   ],
   "source": [
    "user_id3 = 3  # Example user ID\n",
    "recommended_movies = get_movie_recommendations(user_id3, num_recommendations=5)\n",
    "print(\"Recommended movies for User\", user_id3)\n",
    "print(recommended_movies)"
   ]
  },
  {
   "cell_type": "code",
   "execution_count": 8,
   "id": "3817db3936e8a1d",
   "metadata": {
    "ExecuteTime": {
     "end_time": "2024-11-15T15:19:37.979916Z",
     "start_time": "2024-11-15T15:19:32.183584Z"
    }
   },
   "outputs": [
    {
     "name": "stdout",
     "output_type": "stream",
     "text": [
      "Highest predicted rating movie for User 50: 'Toy Story (1995)' with a predicted rating of 3.52\n",
      "Title: 'Toy Story (1995)'\n",
      ", Genre: Adventure|Animation|Children|Comedy|Fantasy\n",
      ", Predicted Rating: 3.52\n",
      "\n",
      "Title: 'Return to Oz (1985)'\n",
      ", Genre: Adventure|Children|Fantasy\n",
      ", Predicted Rating: 3.52\n",
      "\n",
      "Title: 'Four more years (Fyra år till) (2010)'\n",
      ", Genre: Comedy|Romance\n",
      ", Predicted Rating: 3.52\n",
      "\n",
      "Title: 'Very Ordinary Couple (Yeonaeui Wondo) (2013)'\n",
      ", Genre: Comedy|Drama|Romance\n",
      ", Predicted Rating: 3.52\n",
      "\n",
      "Title: 'Strange Wilderness (2008)'\n",
      ", Genre: Comedy\n",
      ", Predicted Rating: 3.52\n",
      "\n",
      "Recommended movies for User 50\n",
      "[(1, 'Toy Story (1995)', 'Adventure|Animation|Children|Comedy|Fantasy', 3.51971875), (2093, 'Return to Oz (1985)', 'Adventure|Children|Fantasy', 3.51971875), (98378, 'Four more years (Fyra år till) (2010)', 'Comedy|Romance', 3.51971875), (114119, 'Very Ordinary Couple (Yeonaeui Wondo) (2013)', 'Comedy|Drama|Romance', 3.51971875), (57536, 'Strange Wilderness (2008)', 'Comedy', 3.51971875)]\n"
     ]
    }
   ],
   "source": [
    "user_id50 = 50  # Example user ID\n",
    "recommended_movies = get_movie_recommendations(user_id50, num_recommendations=5)\n",
    "print(\"Recommended movies for User\", user_id50)\n",
    "print(recommended_movies)"
   ]
  }
 ],
 "metadata": {
  "kernelspec": {
   "display_name": "Python 3",
   "language": "python",
   "name": "python3"
  },
  "language_info": {
   "codemirror_mode": {
    "name": "ipython",
    "version": 2
   },
   "file_extension": ".py",
   "mimetype": "text/x-python",
   "name": "python",
   "nbconvert_exporter": "python",
   "pygments_lexer": "ipython2",
   "version": "2.7.6"
  }
 },
 "nbformat": 4,
 "nbformat_minor": 5
}
