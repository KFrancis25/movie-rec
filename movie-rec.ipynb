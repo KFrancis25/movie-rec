{
 "cells": [
  {
   "cell_type": "code",
   "execution_count": 2,
   "id": "initial_id",
   "metadata": {
    "ExecuteTime": {
     "end_time": "2024-11-15T15:19:03.479344Z",
     "start_time": "2024-11-15T15:19:03.475774Z"
    },
    "collapsed": true
   },
   "outputs": [
    {
     "ename": "",
     "evalue": "",
     "output_type": "error",
     "traceback": [
      "\u001b[1;31mRunning cells with 'Python 3.12.6' requires the ipykernel package.\n",
      "\u001b[1;31mRun the following command to install 'ipykernel' into the Python environment. \n",
      "\u001b[1;31mCommand: '/opt/homebrew/bin/python3 -m pip install ipykernel -U --user --force-reinstall'"
     ]
    }
   ],
   "source": [
    "import os\n",
    "import pandas as pd\n",
    "from surprise import Dataset, Reader, KNNBasic\n",
    "from surprise.model_selection import train_test_split\n",
    "from surprise import accuracy\n"
   ]
  },
  {
   "cell_type": "code",
   "execution_count": null,
   "id": "ac781fa8251679d7",
   "metadata": {
    "ExecuteTime": {
     "end_time": "2024-11-15T15:19:14.480327Z",
     "start_time": "2024-11-15T15:19:03.488227Z"
    }
   },
   "outputs": [],
   "source": [
    "# Define file paths based on the current script location\n",
    "current_dir = os.getcwd()  # Gets the current working directory\n",
    "ratings_path = os.path.join(current_dir, 'rating.csv')\n",
    "movies_path = os.path.join(current_dir, 'movie.csv')\n",
    "\n",
    "# Load MovieLens dataset\n",
    "ratings = pd.read_csv(ratings_path)\n",
    "movies = pd.read_csv(movies_path)\n",
    "\n",
    "ratings_sample = ratings.sample(n=50000, random_state=42)\n",
    "\n",
    "# Prepare the data for the Surprise library\n",
    "reader = Reader(rating_scale=(0.5, 5))\n",
    "data = Dataset.load_from_df(ratings_sample[['userId', 'movieId', 'rating']], reader)\n",
    "\n",
    "# Split data into training and test sets\n",
    "trainset, testset = train_test_split(data, test_size=0.2, random_state=42)\n",
    "\n",
    "# Define the KNN collaborative filtering algorithm\n",
    "# Using item-based collaborative filtering with cosine similarity\n",
    "algo = KNNBasic(sim_options={'name': 'cosine', 'user_based': False})\n",
    "\n",
    "# Train the algorithm on the training set\n",
    "algo.fit(trainset)\n",
    "\n",
    "# Make predictions on the test set\n",
    "predictions = algo.test(testset)\n",
    "\n",
    "# Calculate and print accuracy\n",
    "print(f\"RMSE: {accuracy.rmse(predictions):.4f}\")"
   ]
  },
  {
   "cell_type": "code",
   "execution_count": null,
   "id": "f1d4130a",
   "metadata": {},
   "outputs": [],
   "source": [
    "import matplotlib.pyplot as plt\n",
    "\n",
    "# Extract actual and predicted ratings\n",
    "actual_ratings = [pred.r_ui for pred in predictions]\n",
    "predicted_ratings = [pred.est for pred in predictions]\n",
    "\n",
    "# Scatter plot of actual vs predicted ratings\n",
    "plt.figure(figsize=(10, 6))\n",
    "plt.scatter(actual_ratings, predicted_ratings, alpha=0.6, label='Predictions')\n",
    "plt.plot([0.5, 5], [0.5, 5], color='red', linestyle='--', label='Perfect Prediction (y = x)')\n",
    "\n",
    "# Add labels, title, and legend\n",
    "plt.title(\"Actual vs Predicted Ratings\", fontsize=14)\n",
    "plt.xlabel(\"Actual Ratings\", fontsize=12)\n",
    "plt.ylabel(\"Predicted Ratings\", fontsize=12)\n",
    "plt.xlim(0.5, 5)\n",
    "plt.ylim(0.5, 5)\n",
    "plt.legend()\n",
    "plt.grid(True, linestyle='--', alpha=0.6)\n",
    "plt.show()\n"
   ]
  },
  {
   "cell_type": "code",
   "execution_count": 4,
   "id": "765e15ea21adef08",
   "metadata": {
    "ExecuteTime": {
     "end_time": "2024-11-15T15:19:14.584344Z",
     "start_time": "2024-11-15T15:19:14.579433Z"
    }
   },
   "outputs": [],
   "source": [
    "import random\n",
    "def get_movie_recommendations(user_id, num_recommendations=5, year_range=None):\n",
    "    # Get a list of all unique movie IDs\n",
    "    movie_ids = movies['movieId'].unique()\n",
    "    #extract year from title \n",
    "    movies['year'] = movies['title'].str.extract(r'\\((\\d{4})\\)', expand=False).astype(float)\n",
    "\n",
    "\n",
    "    # Get the list of movie IDs the user has already rated\n",
    "    user_rated_movies = ratings[ratings['userId'] == user_id]['movieId'].tolist()\n",
    "    \n",
    "    # Filter out movies the user has already rated\n",
    "    unrated_movies = [movie_id for movie_id in movie_ids if movie_id not in user_rated_movies]\n",
    "\n",
    "# Predict ratings for all unrated movies\n",
    "    predictions = [algo.predict(user_id, movie_id) for movie_id in unrated_movies]\n",
    "\n",
    "    # Find the highest-rated movie\n",
    "    max_rated_movie = max(predictions, key=lambda x: x.est)\n",
    "    max_movie_id = int(max_rated_movie.iid)\n",
    "    max_movie_title = movies[movies['movieId'] == max_movie_id]['title'].values[0]\n",
    "\n",
    "    print(f\"Highest predicted rating movie for User {user_id}: '{max_movie_title}' with a predicted rating of {max_rated_movie.est:.2f}\")\n",
    "\n",
    "    # Apply year range filter if provided\n",
    "    if year_range:\n",
    "        start_year, end_year = year_range\n",
    "        movies_filtered_by_year = movies[(movies['year'] >= start_year) & (movies['year'] <= end_year)]\n",
    "    else:\n",
    "        movies_filtered_by_year = movies\n",
    "           \n",
    "    # Get random recommendations from different genres\n",
    "    genre_recommendations = []\n",
    "    for genre in movies_filtered_by_year['genres'].unique():\n",
    "        # Filter movies by genre and exclude already rated movies\n",
    "        genre_movies = movies_filtered_by_year[(movies_filtered_by_year['genres'] == genre) & (movies_filtered_by_year['movieId'].isin(unrated_movies))]\n",
    "        \n",
    "        if not genre_movies.empty:\n",
    "            # Pick a random movie from the current genre and predict its rating\n",
    "            random_movie_id = random.choice(genre_movies['movieId'].tolist())\n",
    "            prediction = algo.predict(user_id, random_movie_id)\n",
    "            genre_recommendations.append((prediction.iid, prediction.est))\n",
    "\n",
    "\n",
    "    # Sort genre recommendations by rating (can remove for more randomness)\n",
    "    genre_recommendations = sorted(genre_recommendations, key=lambda x: x[1], reverse=True)[:num_recommendations]\n",
    "\n",
    "    # Get movie titles for the recommended movie IDs\n",
    "    recommended_movies = []\n",
    "\n",
    "    print(\"\\nMovies to Watch Next:\")\n",
    "    \n",
    "    for movie_id, rating in genre_recommendations:\n",
    "        movie_info = movies[movies['movieId'] == int(movie_id)][['title', 'genres']].values[0]\n",
    "        title, genre = movie_info\n",
    "        print(f\"Title: '{title}'\\n, Genre: {genre}\\n, Predicted Rating: {rating:.2f}\\n\")\n",
    "        recommended_movies.append((movie_id, title, genre, rating))\n",
    "\n",
    "    return recommended_movies"
   ]
  },
  {
   "cell_type": "code",
   "execution_count": null,
   "id": "eacd32ca70071987",
   "metadata": {
    "ExecuteTime": {
     "end_time": "2024-11-15T15:19:20.532792Z",
     "start_time": "2024-11-15T15:19:14.637233Z"
    }
   },
   "outputs": [],
   "source": [
    "# Test the recommendation function\n",
    "user_id = 1  # Example user ID\n",
    "#get_movie_recommendations(user_id, number of movie recommendations, range of year) \n",
    "recommended_movies = get_movie_recommendations(user_id, num_recommendations=7,year_range=[2007,2010])\n",
    "print(\"Recommended movies for User\", user_id)\n",
    "print(recommended_movies)"
   ]
  },
  {
   "cell_type": "code",
   "execution_count": null,
   "id": "143b49e5b32274a0",
   "metadata": {
    "ExecuteTime": {
     "end_time": "2024-11-15T15:19:26.314892Z",
     "start_time": "2024-11-15T15:19:20.542519Z"
    }
   },
   "outputs": [],
   "source": [
    "# Test the recommendation function\n",
    "user_id2 = 2  # Example user ID\n",
    "recommended_movies = get_movie_recommendations(user_id2, num_recommendations=5)\n",
    "print(\"Recommended movies for User\", user_id2)\n",
    "print(recommended_movies)"
   ]
  },
  {
   "cell_type": "code",
   "execution_count": null,
   "id": "76d84a246ed5b12d",
   "metadata": {
    "ExecuteTime": {
     "end_time": "2024-11-15T15:19:32.173339Z",
     "start_time": "2024-11-15T15:19:26.325200Z"
    }
   },
   "outputs": [],
   "source": [
    "user_id3 = 3  # Example user ID\n",
    "recommended_movies = get_movie_recommendations(user_id3, num_recommendations=5)\n",
    "print(\"Recommended movies for User\", user_id3)\n",
    "print(recommended_movies)"
   ]
  },
  {
   "cell_type": "code",
   "execution_count": null,
   "id": "3817db3936e8a1d",
   "metadata": {
    "ExecuteTime": {
     "end_time": "2024-11-15T15:19:37.979916Z",
     "start_time": "2024-11-15T15:19:32.183584Z"
    }
   },
   "outputs": [],
   "source": [
    "user_id50 = 50  # Example user ID\n",
    "recommended_movies = get_movie_recommendations(user_id50, num_recommendations=5)\n",
    "print(\"Recommended movies for User\", user_id50)\n",
    "print(recommended_movies)"
   ]
  },
  {
   "cell_type": "code",
   "execution_count": null,
   "id": "0d45e37a",
   "metadata": {},
   "outputs": [],
   "source": [
    "import matplotlib.pyplot as plt\n",
    "\n",
    "# 1. Visualize the distribution of user ratings\n",
    "plt.figure(figsize=(10, 6))\n",
    "ratings['rating'].hist(bins=10, color='skyblue', edgecolor='black')\n",
    "plt.title('Distribution of User Ratings', fontsize=16)\n",
    "plt.xlabel('Rating', fontsize=14)\n",
    "plt.ylabel('Frequency', fontsize=14)\n",
    "plt.grid(axis='y', linestyle='--', alpha=0.7)\n",
    "plt.show()\n",
    "\n",
    "# 2. Visualize recommendations for a specific user\n",
    "def visualize_recommendations(user_id, num_recommendations=5):\n",
    "    # Get movie recommendations\n",
    "    recommended_movies = get_movie_recommendations(user_id, num_recommendations)\n",
    "\n",
    "    # Create a bar chart for the recommendations\n",
    "    plt.figure(figsize=(10, 6))\n",
    "    plt.barh(recommended_movies['title'], [algo.predict(user_id, movie_id).est for movie_id in recommended_movies['movieId']], color='lightgreen', edgecolor='black')\n",
    "    plt.title(f'Top {num_recommendations} Recommended Movies for User {user_id}', fontsize=16)\n",
    "    plt.xlabel('Predicted Rating', fontsize=14)\n",
    "    plt.ylabel('Movie Titles', fontsize=14)\n",
    "    plt.gca().invert_yaxis()  # Invert y-axis for better readability\n",
    "    plt.grid(axis='x', linestyle='--', alpha=0.7)\n",
    "    plt.show()\n",
    "\n",
    "# Visualize recommendations for the example user ID\n",
    "visualize_recommendations(user_id=1, num_recommendations=5)\n"
   ]
  }
 ],
 "metadata": {
  "kernelspec": {
   "display_name": "Python 3",
   "language": "python",
   "name": "python3"
  },
  "language_info": {
   "codemirror_mode": {
    "name": "ipython",
    "version": 2
   },
   "file_extension": ".py",
   "mimetype": "text/x-python",
   "name": "python",
   "nbconvert_exporter": "python",
   "pygments_lexer": "ipython2",
   "version": "3.12.6"
  }
 },
 "nbformat": 4,
 "nbformat_minor": 5
}
